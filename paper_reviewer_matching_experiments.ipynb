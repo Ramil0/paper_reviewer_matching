{
 "cells": [
  {
   "cell_type": "markdown",
   "metadata": {},
   "source": [
    "# Распределение статей по рецензентам"
   ]
  },
  {
   "cell_type": "code",
   "execution_count": 109,
   "metadata": {
    "collapsed": true
   },
   "outputs": [],
   "source": [
    "import numpy as np\n",
    "from scipy import linalg\n",
    "import pylab as plt\n",
    "import pandas as pd\n",
    "%matplotlib inline"
   ]
  },
  {
   "cell_type": "markdown",
   "metadata": {},
   "source": [
    "## Нахождение оптимального распределения методом градиентного спуска. \n",
    "\n",
    "Итак, поставим формально задачу распределения статей по рецензентам. Пусть имеется $n$ рецензентов и $m$ статей, которые нуждаются в рецензии. Обозначим через $s_{rp}$ показатель качества пары $(r, p)$, который выражает насколько рецензенту $r$ подходит статья $p$ по его научным интересам (suitability), $S = \\{s_{rp}\\}_{r=1..n, p=1..m}$  -- соответствующая матрица размера $n \\times m$. Можно полагать, что качество распределения статей по рецензентам определяется суммой показателей качества пар, входящих в предложенное распределение. Помимо этого, целесообразно наложить определенные ограничения на распределение: каждый рецензент должен прочитать не слишком много и не слишком мало статей, а каждая статья должна быть прочитана не слишком маленьким и не слишком большим числом рецензентов. Пусть $y_{rp} = 1$, если рецензенту $r$ поручено прочитать статью $p$, и $y_{rp} = 0$ в противном случае. При наличии известной матрицы $S$ задачу нахождения оптимальной 0-1 матрицы $Y=\\{y_{rp}\\}_{r=1..n, p=1..m}$ можно формально записать следующим образом : \n",
    "\\begin{align}\n",
    "J(Y, S) = \\mathsf{tr}(S^TY) = \\sum\\limits_{r, p} s_{rp}y_{rp} \\to \\max\\limits_{Y} \\\\\n",
    "    \\text{s.t.}\n",
    "    \\begin{cases}\n",
    "        R_{min} \\leqslant \\sum\\limits_{p} y_{rp} \\leqslant R_{max} & \\forall r = 1..n \\\\\n",
    "        P_{min} \\leqslant \\sum\\limits_{r} y_{rp} \\leqslant P_{max} & \\forall p = 1..m \\\\\n",
    "        y_{rp} \\in \\{0, 1\\} & \\forall r = 1..n, \\forall p = 1..m\n",
    "    \\end{cases}\n",
    "\\end{align}\n",
    "\n",
    "Эта задача бинарного целочисленного программирования, в общем случае NP-полная. \n",
    "\n",
    "Рассмотрим упрощенную модель с двумя условиями:\n",
    "\n",
    "1. Каждая статья должна быть прочитана примерно $P$ рецензентами ($P$ задано): \n",
    "$$\\sum\\limits_{r} y_{rp} \\approx P \\quad \\forall p=1..m $$\n",
    "\n",
    "2. Все рецензенты должны быть загружены приблизительно одинаковы, т.е. каждым должно быть прочитано примерно одинаковое число статей: \n",
    "    $$\\sum\\limits_{p} y_{rp} \\approx \\dfrac{1}{n}\\sum\\limits_{r',p'} y_{r'p'} \\quad \\forall r=1..n $$\n",
    "    \n",
    "Кроме того, имеется естественное требование на область значение элементов искомого решения $Y$:\n",
    "$$y_{rp} \\in \\{0, 1\\} \\quad \\forall r=1..n,~\\forall p=1..m$$\n",
    "\n",
    "Таким образом, мы можем записать задачу оптимизации следующим образом:\n",
    "\\begin{gather*}\n",
    "    J(Y,S, \\vec \\lambda) = \\sum\\limits_{r, p} s_{rp}y_{rp} - \\dfrac{\\lambda_1}{2} \\sum\\limits_{p} \\left(\\sum\\limits_{r} y_{rp} - P \\right)^2 - \\\\ - \\dfrac{\\lambda_2}{2} \\sum\\limits_{r} \\left(\\sum\\limits_{p} y_{rp} - \\dfrac{1}{n}\\sum\\limits_{r', p'} y_{r'p'} \\right)^2 - \n",
    "    \\lambda_3 \\sum\\limits_{r,p} f(y_{rp})\n",
    "\\to \\max\\limits_{Y}\n",
    "\\end{gather*}\n",
    "Здесь функция $f$ -- некоторая функция штрафа, которая должна удовлетворять следующим разумным требованиям:\n",
    "\n",
    "1. $f(0)=f(1)=0$\n",
    "\n",
    "2. Штраф $f(x)$ возрастает с увеличением $\\rho(x) = \\min(|x-0|, |x-1|)$ -- расстояния от $x$ до ближайшего из $\\{0, 1\\}$\n",
    "\n",
    "В качестве функции $f(x)$ можно взять само $\\rho(x) = \\min(|x|, |x-1|)$, но для наших целей удобнее будет функция $f(x) = |x(x-1)| = |x^2-x|$.\n",
    "\n",
    "Таким образом, целевая функция принимает вид:\n",
    "\\begin{gather*}\n",
    "    J(Y,S, \\vec \\lambda) = \\sum\\limits_{r, p} s_{rp}y_{rp} - \\dfrac{\\lambda_1}{2} \\sum\\limits_{p} \\left(\\sum\\limits_{r} y_{rp} - P \\right)^2 - \\\\ \\dfrac{\\lambda_2}{2} \\sum\\limits_{r} \\left(\\sum\\limits_{p} y_{rp} - \\dfrac{1}{n}\\sum\\limits_{r', p'} y_{r'p'} \\right)^2 - \n",
    "    \\lambda_3 \\sum\\limits_{r,p} |y_{rp}^2 - y_{rp}|\n",
    "\\end{gather*}\n",
    "Оптимизировать эту функцию аналитически не представляется возможным, однако посредством градиентного спуска можно приближенно найти оптимум. Посчитаем градиент данной функции по $Y$:\n",
    "\\begin{align*}\n",
    "    \\mathsf{grad}_{ij} J(Y, S, \\vec \\lambda) = \\dfrac{\\partial J(Y,S, \\vec \\lambda)}{\\partial y_{ij}} = s_{ij} - \\lambda_1\\left(\\sum\\limits_{r} y_{rj} - P \\right) \n",
    "    - \\\\ - \\lambda_2\\left(\\sum\\limits_{p} y_{ip} - \\dfrac{1}{n}\\sum\\limits_{r, p} y_{rp} \\right)\\left(1 - \\dfrac{1}{n}\\right) -\n",
    "    \\lambda_3 \\mathsf{sgn}(y_{ij}^2 - y_{ij}) (2y_{ij} - 1)\n",
    "\\end{align*}\n",
    "Выберем размер шага (rate) $\\eta$. Поскольку мы хотим максимизировать $J(Y, S, \\vec \\lambda)$, то в данном случае градиентный шаг будет заключаться в обновлении матрицы $Y$ по следующей формуле:\n",
    "$$Y := Y + \\eta \\cdot  \\mathsf{grad}J(Y, S, \\vec \\lambda)$$"
   ]
  },
  {
   "cell_type": "markdown",
   "metadata": {},
   "source": [
    "Напишем соответствующие функции для градиентного спуска и поиска решения."
   ]
  },
  {
   "cell_type": "code",
   "execution_count": 47,
   "metadata": {
    "collapsed": true
   },
   "outputs": [],
   "source": [
    "# Update Y: Y := Y + nu * grad J(Y, S, lambda).\n",
    "def upd_y(y, S, lambda1, lambda2, lambda3, P, rate):\n",
    "    n, m = S.shape\n",
    "    grad = np.zeros(n * m)\n",
    "    sum_y = sum(y)\n",
    "    sum_row = np.zeros(n)\n",
    "    sum_column = np.zeros(m)\n",
    "    for i in range(n):\n",
    "        for j in range(m):\n",
    "            sum_row[i] += y[i * m + j]\n",
    "            sum_column[j] += y[i * m + j]\n",
    "    for i in range(n):\n",
    "        for j in range(m):\n",
    "            ind =  i * m + j\n",
    "            grad[ind] += S[i][j]\n",
    "            grad[ind] -= lambda1 * (sum_column[j] - P)\n",
    "            grad[ind] -= lambda2 * (sum_row[i] - 1.0 * sum_y / n) * 1.0 * (n - 1) / n\n",
    "            if (y[ind] < 0 or y[ind] > 1):\n",
    "                grad[ind] -= 2 * lambda3 * y[ind] - lambda3\n",
    "            else:\n",
    "                grad[ind] += 2 * lambda3 * y[ind] - lambda3\n",
    "    return y + grad * rate\n",
    "\n",
    "# Convert real matrix to the integer one.\n",
    "def convert_to_int(Y):\n",
    "    Y_int = np.zeros(Y.shape)\n",
    "    for i in range(Y.shape[0]):\n",
    "        for j in range(Y.shape[1]):\n",
    "            if (abs(Y[i][j] - 0) < abs(Y[i][j] - 1)):\n",
    "                Y_int[i][j] = 0\n",
    "            else:\n",
    "                Y_int[i][j] = 1\n",
    "    return Y_int\n",
    "\n",
    "# Make MAX_ITERATIONS iterations, in each iteration update Y.\n",
    "def get_heuristic_solution(S, P):\n",
    "    MAX_ITERATIONS = 10000\n",
    "    STEP = 0.001\n",
    "    lambda1 = 30\n",
    "    lambda2 = 2\n",
    "    lambda3 = 10\n",
    "    \n",
    "    next_y = np.zeros(S.shape[0] * S.shape[1])\n",
    "    for i in range(S.shape[0]):\n",
    "        for j in range(S.shape[1]):\n",
    "            next_y[i * S.shape[1] + j] = 0.5\n",
    "\n",
    "    iterations = 0\n",
    "    while (iterations < MAX_ITERATIONS):\n",
    "        iterations += 1\n",
    "        y = next_y\n",
    "        next_y = upd_y(y, S, lambda1, lambda2, lambda3, P, STEP)\n",
    "    return convert_to_int(y.reshape((S.shape[0], S.shape[1])))"
   ]
  },
  {
   "cell_type": "markdown",
   "metadata": {},
   "source": [
    "Также напишем функцию для поиска оптимального целочисленного решения:"
   ]
  },
  {
   "cell_type": "code",
   "execution_count": 45,
   "metadata": {
    "collapsed": true
   },
   "outputs": [],
   "source": [
    "import itertools\n",
    "\n",
    "# Check if constraints are satisfied.\n",
    "def meet_constraints(Y, P, R_min=None, R_max=None):\n",
    "    R_avg = P * S.shape[1] * 1.0 / S.shape[0]\n",
    "    if R_min == None:\n",
    "        R_min = int(R_avg)\n",
    "        R_max = int(R_avg) + 1\n",
    "    n, m = Y.shape[0], Y.shape[1]\n",
    "    for r in range(n):\n",
    "        if sum(Y[r]) < R_min or sum(Y[r]) > R_max:\n",
    "            return False\n",
    "    for p in range(m):\n",
    "        if sum(Y[:, p]) != P:\n",
    "            return False\n",
    "    return True\n",
    "\n",
    "# Generate all binary sequences and find optimal binary matrix Y.\n",
    "def get_optimal_solution_trivial(S, P):\n",
    "    R = P * S.shape[1] * 1.0 / S.shape[0]\n",
    "    R_min = int(R)\n",
    "    R_max = int(R) + 1\n",
    "    n, m = S.shape[0], S.shape[1]\n",
    "    max_y = np.zeros(S.shape)\n",
    "    max_result = 0\n",
    "    for y in itertools.product([0, 1], repeat = n * m):\n",
    "        Y = np.array(y).reshape(S.shape)\n",
    "        if meet_constraints(Y, P):\n",
    "            current_result = 0\n",
    "            for r in range(n):\n",
    "                for p in range(m):\n",
    "                    current_result += S[r][p] * Y[r][p]\n",
    "                    if current_result > max_result:\n",
    "                        max_result = current_result\n",
    "                        max_y = np.array(y)\n",
    "    return max_y.reshape(S.shape)"
   ]
  },
  {
   "cell_type": "markdown",
   "metadata": {},
   "source": [
    "Сравним результаты работы двух функций на каком-нибудь примере:"
   ]
  },
  {
   "cell_type": "code",
   "execution_count": 78,
   "metadata": {
    "collapsed": false
   },
   "outputs": [
    {
     "name": "stdout",
     "output_type": "stream",
     "text": [
      "Optimal:\n",
      "[[0 1 1 0]\n",
      " [1 1 0 1]\n",
      " [1 0 1 1]]\n",
      "Heuristic:\n",
      "[[ 0.  1.  1.  0.]\n",
      " [ 1.  1.  0.  1.]\n",
      " [ 1.  0.  1.  1.]]\n"
     ]
    }
   ],
   "source": [
    "S = np.array([\n",
    "        [1, 4, 2, 1],\n",
    "        [3, 2, 1, 5],\n",
    "        [4, 1, 4, 3],\n",
    "    ])\n",
    "P = 2\n",
    "print 'Optimal:'\n",
    "print get_optimal_solution_trivial(S, P)\n",
    "print 'Heuristic:'\n",
    "print get_heuristic_solution(S, P)"
   ]
  },
  {
   "cell_type": "markdown",
   "metadata": {},
   "source": [
    "Проверим также, как выглядит оптимальный результат при каких-то заданных параметрах, если не накладывать ограничений на бинарность Y."
   ]
  },
  {
   "cell_type": "code",
   "execution_count": 81,
   "metadata": {
    "collapsed": true
   },
   "outputs": [],
   "source": [
    "def optimal_distribution(S, lambda1, lambda2, lambda3, P):\n",
    "    n, m = S.shape\n",
    "    A = np.zeros((n * m, n * m))\n",
    "    b = np.zeros(n * m)\n",
    "    for i in range(n):\n",
    "        for j in range(m):\n",
    "            ind =  i * m + j\n",
    "            b[ind] = S[i][j] + lambda1 * P + lambda3\n",
    "            for r in range(n):\n",
    "                A[ind][r * m + j] += lambda1\n",
    "            for p in range(m):\n",
    "                A[ind][i * m + p] += lambda2\n",
    "            for r in range(n):\n",
    "                for p in range(m):\n",
    "                    A[ind][r * m + p] -= (lambda2 * (n - 1) * 1.0) / (n * n)\n",
    "            A[ind][ind] += 2 * lambda3\n",
    "    Y = np.linalg.solve(A, b)\n",
    "    return Y.reshape(n, m)"
   ]
  },
  {
   "cell_type": "code",
   "execution_count": 92,
   "metadata": {
    "collapsed": false
   },
   "outputs": [
    {
     "data": {
      "text/plain": [
       "array([[ 0.43147703,  0.98356036,  0.65022703,  0.3793937 ],\n",
       "       [ 0.66481036,  0.55022703,  0.38356036,  0.94606036],\n",
       "       [ 0.7981437 ,  0.35022703,  0.85022703,  0.5793937 ]])"
      ]
     },
     "execution_count": 92,
     "metadata": {},
     "output_type": "execute_result"
    }
   ],
   "source": [
    "optimal_distribution(S, 30, 6, 3, 2)"
   ]
  },
  {
   "cell_type": "markdown",
   "metadata": {},
   "source": [
    "Heuristic и OptimalTrivial дали одинаковый результат. Проверим на большем количестве примеров. Будем генерировать матрицы по равномерному распределению и смотреть на результаты обоих алгоритмов."
   ]
  },
  {
   "cell_type": "code",
   "execution_count": 76,
   "metadata": {
    "collapsed": false
   },
   "outputs": [
    {
     "name": "stdout",
     "output_type": "stream",
     "text": [
      "Matrix size: (4, 4)  heuristic optimum: 18.0  optimal: 16\n",
      "Matrix size: (2, 6)  heuristic optimum: 39.0  optimal: 39\n",
      "Matrix size: (3, 6)  heuristic optimum: 50.0  optimal: 50\n",
      "Matrix size: (3, 6)  heuristic optimum: 42.0  optimal: 42\n",
      "Matrix size: (2, 5)  heuristic optimum: 30.0  optimal: 30\n",
      "Matrix size: (2, 5)  heuristic optimum: 23.0  optimal: 23\n",
      "Matrix size: (3, 3)  heuristic optimum: 13.0  optimal: 12\n",
      "Matrix size: (3, 4)  heuristic optimum: 24.0  optimal: 24\n",
      "Matrix size: (3, 2)  heuristic optimum: 16.0  optimal: 16\n",
      "Matrix size: (2, 5)  heuristic optimum: 24.0  optimal: 23\n",
      "Matrix size: (3, 4)  heuristic optimum: 40.0  optimal: 40\n",
      "Matrix size: (2, 5)  heuristic optimum: 39.0  optimal: 39\n",
      "Matrix size: (3, 5)  heuristic optimum: 23.0  optimal: 23\n",
      "Matrix size: (5, 3)  heuristic optimum: 47.0  optimal: 47\n",
      "Matrix size: (2, 2)  heuristic optimum: 14.0  optimal: 14\n",
      "Matrix size: (3, 4)  heuristic optimum: 17.0  optimal: 17\n",
      "Matrix size: (3, 4)  heuristic optimum: 32.0  optimal: 29\n",
      "Matrix size: (5, 3)  heuristic optimum: 37.0  optimal: 37\n",
      "Matrix size: (3, 2)  heuristic optimum: 10.0  optimal: 9\n",
      "Matrix size: (2, 5)  heuristic optimum: 21.0  optimal: 20\n",
      "Matrix size: (3, 6)  heuristic optimum: 28.0  optimal: 27\n",
      "Matrix size: (6, 2)  heuristic optimum: 36.0  optimal: 36\n",
      "Matrix size: (5, 2)  heuristic optimum: 17.0  optimal: 16\n",
      "Matrix size: (5, 3)  heuristic optimum: 34.0  optimal: 32\n",
      "Matrix size: (3, 3)  heuristic optimum: 14.0  optimal: 14\n",
      "Matrix size: (2, 5)  heuristic optimum: 15.0  optimal: 15\n",
      "Matrix size: (3, 2)  heuristic optimum: 14.0  optimal: 14\n",
      "Matrix size: (6, 3)  heuristic optimum: 43.0  optimal: 43\n",
      "Matrix size: (5, 3)  heuristic optimum: 30.0  optimal: 30\n",
      "Matrix size: (3, 2)  heuristic optimum: 19.0  optimal: 19\n",
      "Matrix size: (6, 3)  heuristic optimum: 13.0  optimal: 13\n",
      "Matrix size: (3, 2)  heuristic optimum: 15.0  optimal: 14\n",
      "Matrix size: (5, 3)  heuristic optimum: 33.0  optimal: 33\n",
      "Matrix size: (4, 3)  heuristic optimum: 24.0  optimal: 24\n",
      "Matrix size: (2, 5)  heuristic optimum: 28.0  optimal: 28\n",
      "Matrix size: (4, 3)  heuristic optimum: 30.0  optimal: 30\n",
      "Matrix size: (3, 4)  heuristic optimum: 21.0  optimal: 20\n",
      "Matrix size: (5, 3)  heuristic optimum: 54.0  optimal: 54\n",
      "Matrix size: (4, 2)  heuristic optimum: 17.0  optimal: 16\n",
      "Matrix size: (3, 3)  heuristic optimum: 22.0  optimal: 22\n"
     ]
    }
   ],
   "source": [
    "error = 0.0\n",
    "NUMBER_OF_ITERATIONS = 40\n",
    "\n",
    "def count_utility(S, Y):\n",
    "    return sum([S[i][j] * Y[i][j] for i in range(S.shape[0]) for j in range(S.shape[1])])\n",
    "\n",
    "for _ in range(NUMBER_OF_ITERATIONS):\n",
    "    n, m = 10, 10\n",
    "    while (n * m > 18):\n",
    "        n = np.random.randint(low=2, high=7)\n",
    "        m = np.random.randint(low=2, high=7)\n",
    "    S = np.random.randint(low=1, high=6, size=(n, m))\n",
    "    P = np.random.randint(1, n + 1)\n",
    "    Y_optimal = get_optimal_solution_trivial(S, P)\n",
    "    Y_heuristic = get_heuristic_solution(S, P)\n",
    "    print 'Matrix size:', (n, m), ' heuristic optimum:', count_utility(S, Y_heuristic), \\\n",
    "    ' optimal:', count_utility(S, Y_optimal)"
   ]
  },
  {
   "cell_type": "markdown",
   "metadata": {},
   "source": [
    "Мы можем видеть, что иногда решение, полученное эвристикой имеет большую полезность -- это означает, что иногда мы нарушаем ограничения.\n",
    "\n",
    "Нужно разработать такой алгоритм, который бы подбирал бы веса штрафов $\\lambda_{1, 2, 3}$ автоматически и при невыполнении ограничений по окончании градиентного спуска увеличивал бы штрафы за невыполненные ограничения. Я пробовал это сделать, но подобный алгоритм зачастую не сходится."
   ]
  },
  {
   "cell_type": "markdown",
   "metadata": {},
   "source": [
    "## Точное нахождение матрицы Y за полиномиальное время."
   ]
  },
  {
   "cell_type": "markdown",
   "metadata": {},
   "source": [
    "Теперь мы можем попробовать реализовать оптимальный алгоритм для нахождения матрицы $Y$ за полиномиальное время так, как это написано в статье http://www.cis.upenn.edu/%7Ecjtaylor/PUBLICATIONS/pdfs/TaylorTR08.pdf "
   ]
  },
  {
   "cell_type": "code",
   "execution_count": 146,
   "metadata": {
    "collapsed": true
   },
   "outputs": [],
   "source": [
    "import scipy.sparse as sp\n",
    "from scipy.sparse import coo_matrix\n",
    "from ortools.linear_solver import pywraplp\n",
    "\n",
    "def create_lp_matrix(S, min_reviewers_per_paper=0, max_reviewers_per_paper=10,\n",
    "                    min_papers_per_reviewer=0, max_papers_per_reviewer=10):\n",
    "    A = S.transpose()\n",
    "    n_papers, n_reviewers = A.shape\n",
    "    n_edges = np.count_nonzero(A)\n",
    "\n",
    "    i, j = A.nonzero()\n",
    "    v = A[i, j]\n",
    "    N_e = sp.dok_matrix((n_papers + n_reviewers, n_edges), dtype=np.float)\n",
    "    N_e[i, range(n_edges)] = 1\n",
    "    N_e[j + n_papers, range(n_edges)] = 1\n",
    "\n",
    "    N_p = sp.dok_matrix((n_papers, n_edges), dtype=np.int)\n",
    "    N_p[i, range(n_edges)] = -1\n",
    "\n",
    "    N_r = sp.dok_matrix((n_reviewers, n_edges), dtype=np.int)\n",
    "    N_r[j, range(n_edges)] = -1\n",
    "\n",
    "    K = sp.vstack([N_e, N_p, N_r, sp.identity(n_edges), -sp.identity(n_edges)])\n",
    "    d = [max_reviewers_per_paper] * n_papers + [max_papers_per_reviewer] * n_reviewers + \\\n",
    "        [-min_reviewers_per_paper] * n_papers + [-min_papers_per_reviewer] * n_reviewers + \\\n",
    "        [1] * n_edges + [0] * n_edges\n",
    "    d = np.atleast_2d(d).T # column constraint vector\n",
    "\n",
    "    return v, K, d\n",
    "\n",
    "def linprog(f, A, b):\n",
    "    A = coo_matrix(A)\n",
    "    f = f.ravel()\n",
    "    b = b.ravel()\n",
    "    solver = pywraplp.Solver('SolveReviewerAssignment',\n",
    "                             pywraplp.Solver.GLOP_LINEAR_PROGRAMMING)\n",
    "    infinity = solver.Infinity()\n",
    "    n, m = A.shape\n",
    "    x = [[]] * m\n",
    "    c = [0] * n\n",
    "    for j in range(m):\n",
    "        x[j] = solver.NumVar(-infinity, infinity, 'x_%u' % j)\n",
    "\n",
    "    objective = solver.Objective()\n",
    "    for j in range(m):\n",
    "        objective.SetCoefficient(x[j], f[j])\n",
    "    objective.SetMaximization()\n",
    "\n",
    "    for i in range(n):\n",
    "        c[i] = solver.Constraint(-infinity, b[i])\n",
    "        for j in A.col[A.row == i]:\n",
    "            c[i].SetCoefficient(x[j], A.data[np.logical_and(A.row == i, A.col == j)][0])\n",
    "\n",
    "    result_status = solver.Solve()\n",
    "    if result_status != 0:\n",
    "        print(\"The final solution might not converged\")\n",
    "    x_sol = np.array([x_tmp.SolutionValue() for x_tmp in x])\n",
    "    return {'x': x_sol, 'status': result_status}\n",
    "\n",
    "def create_assignment(x_sol, S):\n",
    "    A = S.transpose()\n",
    "    n_papers, n_reviewers = A.shape\n",
    "    i, j = A.nonzero()\n",
    "    t = np.array(x_sol > 0.5).flatten()\n",
    "    b = np.zeros((n_papers, n_reviewers))\n",
    "    b[i[t], j[t]] = 1\n",
    "    return b.transpose()\n",
    "\n",
    "def get_optimal_solution(S, P):\n",
    "    R_avg = P * S.shape[1] * 1.0 / S.shape[0]\n",
    "    R_min = int(R_avg)\n",
    "    R_max = int(R_avg) + 1\n",
    "    v, K, d = create_lp_matrix(S, min_reviewers_per_paper=P, max_reviewers_per_paper=P,\n",
    "                                  min_papers_per_reviewer=R_min, max_papers_per_reviewer=R_max)\n",
    "    x_sol = linprog(v, K.toarray(), d)['x']\n",
    "    b = create_assignment(x_sol, S)\n",
    "    return b"
   ]
  },
  {
   "cell_type": "markdown",
   "metadata": {},
   "source": [
    "Протестируем данный алгоритм на случайных матрицах и сравним с решением, полученным наивным алгоритмом (с полным перебором всех бинарных матриц)."
   ]
  },
  {
   "cell_type": "code",
   "execution_count": 96,
   "metadata": {
    "collapsed": false
   },
   "outputs": [
    {
     "name": "stdout",
     "output_type": "stream",
     "text": [
      "Matrix size: (3, 5)  trivial optimum: 22.0  optimum: 22\n",
      "Matrix size: (3, 4)  trivial optimum: 15.0  optimum: 15\n",
      "Matrix size: (4, 2)  trivial optimum: 14.0  optimum: 14\n",
      "Matrix size: (6, 3)  trivial optimum: 42.0  optimum: 42\n",
      "Matrix size: (3, 3)  trivial optimum: 10.0  optimum: 10\n",
      "Matrix size: (5, 2)  trivial optimum: 15.0  optimum: 15\n",
      "Matrix size: (2, 5)  trivial optimum: 33.0  optimum: 33\n",
      "Matrix size: (2, 2)  trivial optimum: 4.0  optimum: 4\n",
      "Matrix size: (3, 3)  trivial optimum: 23.0  optimum: 23\n",
      "Matrix size: (6, 2)  trivial optimum: 20.0  optimum: 20\n",
      "Matrix size: (2, 3)  trivial optimum: 24.0  optimum: 24\n",
      "Matrix size: (2, 4)  trivial optimum: 27.0  optimum: 27\n",
      "Matrix size: (3, 2)  trivial optimum: 23.0  optimum: 23\n",
      "Matrix size: (3, 2)  trivial optimum: 10.0  optimum: 10\n",
      "Matrix size: (2, 2)  trivial optimum: 4.0  optimum: 4\n",
      "Matrix size: (4, 4)  trivial optimum: 34.0  optimum: 34\n",
      "Matrix size: (4, 2)  trivial optimum: 8.0  optimum: 8\n",
      "Matrix size: (5, 3)  trivial optimum: 38.0  optimum: 38\n",
      "Matrix size: (3, 6)  trivial optimum: 64.0  optimum: 64\n",
      "Matrix size: (5, 3)  trivial optimum: 32.0  optimum: 32\n",
      "Matrix size: (4, 3)  trivial optimum: 10.0  optimum: 10\n",
      "Matrix size: (6, 2)  trivial optimum: 33.0  optimum: 33\n",
      "Matrix size: (4, 4)  trivial optimum: 29.0  optimum: 29\n",
      "Matrix size: (6, 2)  trivial optimum: 33.0  optimum: 33\n",
      "Matrix size: (2, 5)  trivial optimum: 14.0  optimum: 14\n",
      "Matrix size: (3, 5)  trivial optimum: 55.0  optimum: 55\n",
      "Matrix size: (5, 2)  trivial optimum: 27.0  optimum: 27\n",
      "Matrix size: (5, 2)  trivial optimum: 21.0  optimum: 21\n",
      "Matrix size: (2, 4)  trivial optimum: 25.0  optimum: 25\n",
      "Matrix size: (2, 4)  trivial optimum: 16.0  optimum: 16\n",
      "Matrix size: (2, 6)  trivial optimum: 25.0  optimum: 25\n",
      "Matrix size: (4, 4)  trivial optimum: 44.0  optimum: 44\n",
      "Matrix size: (4, 2)  trivial optimum: 9.0  optimum: 9\n",
      "Matrix size: (2, 6)  trivial optimum: 43.0  optimum: 43\n",
      "Matrix size: (4, 4)  trivial optimum: 33.0  optimum: 33\n",
      "Matrix size: (3, 2)  trivial optimum: 10.0  optimum: 10\n",
      "Matrix size: (3, 5)  trivial optimum: 21.0  optimum: 21\n",
      "Matrix size: (2, 4)  trivial optimum: 26.0  optimum: 26\n",
      "Matrix size: (4, 3)  trivial optimum: 11.0  optimum: 11\n",
      "Matrix size: (3, 3)  trivial optimum: 26.0  optimum: 26\n"
     ]
    }
   ],
   "source": [
    "error = 0.0\n",
    "NUMBER_OF_ITERATIONS = 40\n",
    "\n",
    "for _ in range(NUMBER_OF_ITERATIONS):\n",
    "    n, m = 10, 10\n",
    "    while (n * m > 18):\n",
    "        n = np.random.randint(low=2, high=7)\n",
    "        m = np.random.randint(low=2, high=7)\n",
    "    S = np.random.randint(low=1, high=6, size=(n, m))\n",
    "    P = np.random.randint(1, n + 1)\n",
    "    Y_optimal = get_optimal_solution_trivial(S, P)\n",
    "    Y_heuristic = get_optimal_solution(S, P)\n",
    "    print 'Matrix size:', (n, m), ' trivial optimum:', count_utility(S, Y_heuristic), \\\n",
    "    ' optimum:', count_utility(S, Y_optimal)"
   ]
  },
  {
   "cell_type": "markdown",
   "metadata": {},
   "source": [
    "Видим, что результаты везде совпадают. Проверим также на достаточно большой матрице, что алгоритм работает приемлимое время."
   ]
  },
  {
   "cell_type": "code",
   "execution_count": 97,
   "metadata": {
    "collapsed": false
   },
   "outputs": [
    {
     "name": "stdout",
     "output_type": "stream",
     "text": [
      "[[2 1 2 ..., 2 1 4]\n",
      " [3 5 2 ..., 1 2 1]\n",
      " [1 2 5 ..., 3 4 4]\n",
      " ..., \n",
      " [4 2 1 ..., 5 4 5]\n",
      " [4 4 2 ..., 3 4 2]\n",
      " [3 5 4 ..., 2 1 2]]\n"
     ]
    },
    {
     "data": {
      "text/plain": [
       "array([[ 0.,  0.,  0., ...,  0.,  0.,  0.],\n",
       "       [ 0.,  0.,  0., ...,  0.,  0.,  0.],\n",
       "       [ 0.,  0.,  0., ...,  0.,  0.,  0.],\n",
       "       ..., \n",
       "       [ 0.,  0.,  0., ...,  0.,  0.,  0.],\n",
       "       [ 0.,  0.,  0., ...,  0.,  0.,  0.],\n",
       "       [ 0.,  0.,  0., ...,  0.,  0.,  0.]])"
      ]
     },
     "execution_count": 97,
     "metadata": {},
     "output_type": "execute_result"
    }
   ],
   "source": [
    "S = np.random.randint(low=1, high=6, size=(100, 100))\n",
    "print S\n",
    "P = 5\n",
    "get_optimal_solution(S, P)"
   ]
  },
  {
   "cell_type": "markdown",
   "metadata": {},
   "source": [
    "Алгоритм завершился менее, чем через минуту после запуска."
   ]
  },
  {
   "cell_type": "markdown",
   "metadata": {},
   "source": [
    "## Построение рекомендательной системы"
   ]
  },
  {
   "cell_type": "markdown",
   "metadata": {},
   "source": [
    "Пусть нам дана неполная матрица оценок R, где $R_{ij}$ -- оценка пользователем $i$ объекта $j$, если такая оценка есть, и 0, если такой оценки нет. Напишем функцию, которая принимает на вход такую матрицу, а на выходе возвращает ту же матрицу, где вместо нулей стоят предсказания системы по поводу соответсвтующей оценки. Для предсказания будет использовать алгоритм, основанный на Matrix Factorization."
   ]
  },
  {
   "cell_type": "code",
   "execution_count": 160,
   "metadata": {
    "collapsed": true
   },
   "outputs": [],
   "source": [
    "MIN_RATING = 1\n",
    "MAX_RATING = 5\n",
    "\n",
    "def matrix_factorization(R, P, Q, K, steps=300, alpha=0.003, beta=0.02):\n",
    "    Q = Q.T\n",
    "    for step in range(steps):\n",
    "        for i in range(len(R)):\n",
    "            for j in range(len(R[i])):\n",
    "                if R[i][j] > 0:\n",
    "                    eij = R[i][j] - np.dot(P[i, :],Q[:, j])\n",
    "                    for k in range(K):\n",
    "                        P[i][k] = P[i][k] + alpha * (2 * eij * Q[k][j] - beta * P[i][k])\n",
    "                        Q[k][j] = Q[k][j] + alpha * (2 * eij * P[i][k] - beta * Q[k][j])\n",
    "        eR = np.dot(P,Q)\n",
    "        e = 0\n",
    "        for i in range(len(R)):\n",
    "            for j in range(len(R[i])):\n",
    "                if R[i][j] > 0:\n",
    "                    e = e + pow(R[i][j] - np.dot(P[i,:], Q[:,j]), 2)\n",
    "                    for k in range(K):\n",
    "                        e = e + (beta/  2) * (pow(P[i][k], 2) + pow(Q[k][j], 2))\n",
    "    return P, Q.T\n",
    "\n",
    "def fill_missing_with_predictions(S):\n",
    "    N = len(S)\n",
    "    M = len(S[0])\n",
    "    K = 2\n",
    "    P = np.array([[0.5 for j in range(K)] for i in range(N)])\n",
    "    Q = np.array([[0.5 for j in range(K)] for i in range(M)])\n",
    "\n",
    "    nP, nQ = matrix_factorization(S, P, Q, K)\n",
    "    nR = np.dot(nP, nQ.T)\n",
    "    S_new = nR\n",
    "    for i in range(S.shape[0]):\n",
    "        for j in range(S.shape[1]):\n",
    "            if S[i][j] == 0:\n",
    "                S_new[i][j] = round(S_new[i][j])\n",
    "                if S_new[i][j] < MIN_RATING:\n",
    "                    S_new[i][j] = MIN_RATING\n",
    "                elif S_new[i][j] > MAX_RATING:\n",
    "                    S_new[i][j] = MAX_RATING\n",
    "            else:\n",
    "                S_new[i][j] = S[i][j]\n",
    "    return S_new"
   ]
  },
  {
   "cell_type": "markdown",
   "metadata": {},
   "source": [
    "Приведем пример использования функции:"
   ]
  },
  {
   "cell_type": "code",
   "execution_count": 163,
   "metadata": {
    "collapsed": false
   },
   "outputs": [
    {
     "data": {
      "text/plain": [
       "array([[ 2.,  5.,  3.,  3.,  2.],\n",
       "       [ 5.,  5.,  5.,  4.,  4.],\n",
       "       [ 5.,  4.,  5.,  5.,  4.],\n",
       "       [ 4.,  3.,  5.,  3.,  1.]])"
      ]
     },
     "execution_count": 163,
     "metadata": {},
     "output_type": "execute_result"
    }
   ],
   "source": [
    "S = np.array([[2, 5, 3, 0, 2],\n",
    "       [5, 0, 0, 4, 4],\n",
    "       [5, 4, 0, 5, 4],\n",
    "       [4, 3, 5, 0, 1]])\n",
    "\n",
    "fill_missing_with_predictions(S)"
   ]
  },
  {
   "cell_type": "markdown",
   "metadata": {},
   "source": [
    "## Активное обучение в задаче paper-reviewer matching. Эксперимент."
   ]
  },
  {
   "cell_type": "markdown",
   "metadata": {},
   "source": [
    "Зададимся теперь вопросами активного обучения: при наличия известных элементов $S^o$ попытаемся узнать оценку какого-либо рецензента по некоторой статье, которая будет в некотором смысле наиболее информативна для предсказательной системы. Как можно априорно оценить полезность (информативность) $Q_{rp}(S^{o})$ запроса оценки $s_{rp}$ по паре $(r, p)$ при известных оценках $S^{o}$? Можно предложить несколько способов:\n",
    "\n",
    "1. $\\textbf{S-max:}$ $Q_{rp}(S^o) = \\hat S_{rp}$, где $\\hat S = S^o \\cup \\hat S^u$, $\\hat S^u = \\arg\\max\\limits_{S^u} P(S^u|S^o,\\theta)$\n",
    "\n",
    "2. $\\textbf{$Y$-max:}$ $Q_{rp}(S^o) = Y(\\hat S)_{rp}\\hat S_{rp}$, где $\\hat S = S^o \\cup \\hat S^u$, $\\hat S^u = \\arg\\max\\limits_{S^u} P(S^u|S^o,\\theta)$\n",
    "\n",
    "3. $\\textbf{$\\bar Y$-max:}$ $Q_{rp}(S^o) = \\bar Y_{rp}\\hat S_{rp}$, где $\\hat S = S^o \\cup \\hat S^u$, $\\hat S^u = \\arg\\max\\limits_{S^u} P(S^u|S^o,\\theta)$\n",
    "\n",
    "Помимо этого, можем предложить еще следующие способы оценки информативности пары:\n",
    "\n",
    "1.\n",
    "    $Q_{rp}(S^o) = E ||Y(S^o, S^u) - Y^{*}(S^{o})||_{F}^2 - E(E||Y(S^o \\cup s_{rp}, S^u \\setminus s_{rp}) - Y^{*}(S^{o}\\cup s_{rp})||_{F}^2|s_{rp})) = E ||Y(S^o, S^u) - Y^{*}(S^{o})||_{F}^2 - E||Y(S^o \\cup s_{rp}, S^u \\setminus s_{rp}) - Y^{*}(S^{o}\\cup s_{rp})||_{F}^2$\n",
    "\n",
    "2. \n",
    "    $\n",
    "        Q_{rp} = E||Y^{*}(S^{o}) - Y^{*}(S^{o} \\cup s_{rp})||^2_F = \\sum\\limits_{s \\in D(s_{rp})} P(s_{rp}=s|S^{o})||Y^{*}(S^{o}) - Y^{*}(S^{o} \\cup \\{s_{rp}=s\\})||^2_F\n",
    "    $\n",
    "    \n",
    "Жадный алгоритм активного обучения тоже может быть недостаточно практичным, поскольку пересчет $Q_{rp}(S^o)$ каждый раз после обновления $S^o$ может быть достаточно трудозатратным. Кроме того, в процессе активного обучения целесообразно задавать вопросы про элементы матрицы равномерным образом, а именно: \n",
    "1. Каждому рецензенту задавать примерно одинаковое число вопросов. Это обеспечит одинаковую загруженность рецензентов и позволит понять предпочтения каждого из них примерно на одном уровне.\n",
    "2. Про каждую статью задавать примерно одинаковое число вопросов. Так мы узнаем больше мнений рецензентов о каждой статье и сможем лучше рекомендовать их другим рецензентам.\n",
    "\n",
    "Сформулируем алгоритм для активного обучения с учетом замечаний выше. Изначально пусть $S^o = \\varnothing$, и имеется полный двудольный граф: доля $R$ из $n$ вершин соответствует рецензентам, а доля $P$ из $m$ вершин -- статьям, причем для любого $r \\in R$ и $p \\in P$ на ребре $(r, p)$ записан вес $Q_{rp}(S^o)$ (в начале веса ребер равны). Алгоритм состоит из $T$ итераций. На очередной итерации:\n",
    "1. Находим какое-либо максимальное паросочетание, полностью насыщающее долю $R$ (рецензентов). Это можно сделать, например, с помощью венгерского алгоритма.\n",
    "2. Выполним запрос оценки для каждой пары $(r, p)$, входящей в найденное паросочетание и обновим $S^o$ только после получения всех оценок.\n",
    "3. Выкинем из графа ребра, про которые мы узнали оценку.\n",
    "4. На оставшихся ребрах $(r, p)$ запишем новый вес $Q_{rp}(S^o)$.\n",
    "\n",
    "Обычно статей больше, чем рецензентов, т.е. $m > n$. \n",
    "\n",
    "$\\textbf{Утверждение.}$  При $T \\leqslant m - n + 1$ на каждой итерации гарантированно будет существовать паросочетание, насыщающее левую долю. (Доказательство в курсовой работе.)"
   ]
  },
  {
   "cell_type": "markdown",
   "metadata": {},
   "source": [
    "Сейчас мы попробуем на реальных данных испытать данный алгоритм. К сожалению, уместных данных по теме рецензентов-статей я не нашел. Но можно воспользоваться данными MovieLens оценок фильмов -- матрица $R$ оценок в ней вполне может являться альтернативой для реальной матрицы $S$ из задачи о рецензентах и статьях."
   ]
  },
  {
   "cell_type": "code",
   "execution_count": 112,
   "metadata": {
    "collapsed": false
   },
   "outputs": [
    {
     "data": {
      "text/plain": [
       "array([[        1,       661,         3, 978302109],\n",
       "       [        1,       914,         3, 978301968],\n",
       "       [        1,      3408,         4, 978300275],\n",
       "       [        1,      2355,         5, 978824291],\n",
       "       [        1,      1197,         3, 978302268],\n",
       "       [        1,      1287,         5, 978302039],\n",
       "       [        1,      2804,         5, 978300719],\n",
       "       [        1,       594,         4, 978302268],\n",
       "       [        1,       919,         4, 978301368],\n",
       "       [        1,       595,         5, 978824268]])"
      ]
     },
     "execution_count": 112,
     "metadata": {},
     "output_type": "execute_result"
    }
   ],
   "source": [
    "data = np.array(pd.read_csv('ml-1m-2/ratings.dat', sep='::'))\n",
    "n = max(data[:, 0])\n",
    "m = max(data[:, 1])\n",
    "data[:10]"
   ]
  },
  {
   "cell_type": "code",
   "execution_count": 113,
   "metadata": {
    "collapsed": false
   },
   "outputs": [],
   "source": [
    "rating = np.zeros((n, m))\n",
    "for i in range(len(data)):\n",
    "    rating[data[i][0] - 1][data[i][1] - 1] = data[i][2]\n",
    "is_rating = np.zeros((n, m))\n",
    "for i in range(n):\n",
    "    for j in range(m):\n",
    "        is_rating[i][j] = int(rating[i][j] != 0)"
   ]
  },
  {
   "cell_type": "markdown",
   "metadata": {},
   "source": [
    "Мы здесь имеем сильно разреженную матрицу. Но для наших целей нам нужно какая-то подматрица, полностью заполненная оценками. Найдем ее:"
   ]
  },
  {
   "cell_type": "code",
   "execution_count": 114,
   "metadata": {
    "collapsed": true
   },
   "outputs": [],
   "source": [
    "rows = [(0, 0) for i in range(n)]\n",
    "columns = [(0, 0) for i in range(m)]\n",
    "for i in range(n):\n",
    "    rows[i] = (sum(is_rating[i]), i)\n",
    "for i in range(m):\n",
    "    columns[i] = (sum(is_rating[:, i]), i)"
   ]
  },
  {
   "cell_type": "code",
   "execution_count": 115,
   "metadata": {
    "collapsed": true
   },
   "outputs": [],
   "source": [
    "users = [set() for i in range(m)]\n",
    "for i in range(len(data)):\n",
    "    users[data[i][1] - 1].add(data[i][0] - 1)"
   ]
  },
  {
   "cell_type": "code",
   "execution_count": 116,
   "metadata": {
    "collapsed": true
   },
   "outputs": [],
   "source": [
    "selected_users = set([i for i in range(n)])\n",
    "sorted_columns = sorted(columns)[::-1][:30]\n",
    "for elem in sorted_columns:\n",
    "    selected_users &= users[elem[1]]\n",
    "selected_items = [sorted_columns[i][1] for i in range(len(sorted_columns))]"
   ]
  },
  {
   "cell_type": "code",
   "execution_count": 117,
   "metadata": {
    "collapsed": false
   },
   "outputs": [
    {
     "name": "stdout",
     "output_type": "stream",
     "text": [
      "(68, 30)\n",
      "[[ 3.  3.  5. ...,  5.  4.  3.]\n",
      " [ 2.  5.  5. ...,  5.  5.  4.]\n",
      " [ 3.  5.  5. ...,  5.  4.  4.]\n",
      " ..., \n",
      " [ 4.  5.  5. ...,  5.  5.  3.]\n",
      " [ 3.  4.  5. ...,  4.  5.  4.]\n",
      " [ 4.  3.  5. ...,  1.  5.  4.]]\n"
     ]
    }
   ],
   "source": [
    "actual_S = np.array(pd.DataFrame(rating)[selected_items].loc[list(selected_users)])\n",
    "print actual_S.shape\n",
    "actual_S = actual_S.transpose()\n",
    "print actual_S"
   ]
  },
  {
   "cell_type": "markdown",
   "metadata": {},
   "source": [
    "Матрица actual_S -- это и есть та подматрица, которую мы искали и которую будем использовать в качестве матрицы suitability.\n",
    "\n",
    "Напишем теперь функцию для венгерского алгоритма:"
   ]
  },
  {
   "cell_type": "code",
   "execution_count": 138,
   "metadata": {
    "collapsed": true
   },
   "outputs": [],
   "source": [
    "# Venger algorithm\n",
    "def find_optimal_matching(W):\n",
    "    n, m = W.shape\n",
    "    A = [[0 for i in range(m + 1)] for j in range(n + 1)]\n",
    "    for i in range(n):\n",
    "        for j in range(m):\n",
    "            A[i + 1][j + 1] = -W[i][j]\n",
    "    INF = 10000000000000000000\n",
    "    u = [0 for i in range(n + 1)]\n",
    "    v = [0 for i in range(m + 1)]\n",
    "    p = [0 for i in range(m + 1)]\n",
    "    way = [0 for i in range(m + 1)]\n",
    "    for i in range(1, n + 1):\n",
    "        p[0] = i\n",
    "        j0 = 0\n",
    "        minv = [INF for i in range(m + 1)]\n",
    "        used = [False for i in range(m + 1)]\n",
    "        while True:\n",
    "            used[j0], i0, delta, j1 = True, p[j0], INF, None\n",
    "            for j in range(1, m + 1):\n",
    "                if not used[j]:\n",
    "                    cur = A[i0][j] - u[i0] - v[j]\n",
    "                    if cur < minv[j]:\n",
    "                        minv[j], way[j] = cur, j0\n",
    "                    if minv[j] < delta:\n",
    "                        delta, j1 = minv[j], j\n",
    "            for j in range(m + 1):\n",
    "                if used[j]:\n",
    "                    u[p[j]] += delta\n",
    "                    v[j] -= delta\n",
    "                else:\n",
    "                    minv[j] -= delta\n",
    "            j0 = j1\n",
    "            if (p[j0] == 0):\n",
    "                break\n",
    "        while True:\n",
    "            j1 = way[j0]\n",
    "            p[j0] = p[j1]\n",
    "            j0 = j1\n",
    "            if j0 == 0:\n",
    "                break\n",
    "    return p[1:]"
   ]
  },
  {
   "cell_type": "markdown",
   "metadata": {},
   "source": [
    "Протестируем функцию:"
   ]
  },
  {
   "cell_type": "code",
   "execution_count": 119,
   "metadata": {
    "collapsed": false
   },
   "outputs": [
    {
     "data": {
      "text/plain": [
       "[2, 1, 3, 4, 0]"
      ]
     },
     "execution_count": 119,
     "metadata": {},
     "output_type": "execute_result"
    }
   ],
   "source": [
    "S = np.array([[2,5,3,5,2],\n",
    "             [5,3,4,4,4],\n",
    "             [5,4,5,5,4],\n",
    "             [4,3,5,5,1]])\n",
    "find_optimal_matching(S)"
   ]
  },
  {
   "cell_type": "markdown",
   "metadata": {},
   "source": [
    "Посчитаем, чему равна максимальная полезность для матрицы actual_S при P = 5"
   ]
  },
  {
   "cell_type": "code",
   "execution_count": 129,
   "metadata": {
    "collapsed": false
   },
   "outputs": [
    {
     "data": {
      "text/plain": [
       "1689.0"
      ]
     },
     "execution_count": 129,
     "metadata": {},
     "output_type": "execute_result"
    }
   ],
   "source": [
    "P = 5\n",
    "actual_Y = get_optimal_solution(actual_S, P)\n",
    "best_utility = count_utility(actual_S, actual_Y)\n",
    "best_utility"
   ]
  },
  {
   "cell_type": "markdown",
   "metadata": {},
   "source": [
    "Отлично, теперь проведем несколько итераций, согласно нашему алгоритму. Вначале рассмотрим $Q_{rp}(S^o) = \\hat S_{rp}$. Будем следить, как быстро алгоритм приближается к оптимальной полезности с ростом количества итераций. Кроме того, интересно, сколько итераций вообще сможет сделать алгоритм. Было доказано, что как минимум K = 68 - 30 + 1 = 39 итераций он сделать должен. Но сделает ли больше?"
   ]
  },
  {
   "cell_type": "code",
   "execution_count": 141,
   "metadata": {
    "collapsed": false
   },
   "outputs": [
    {
     "name": "stdout",
     "output_type": "stream",
     "text": [
      "30 68\n"
     ]
    }
   ],
   "source": [
    "n, m = actual_S.shape\n",
    "print n, m\n",
    "K = m - n + 1\n",
    "INF_2 = 100000\n",
    "\n",
    "def update(S, actual_S, p):\n",
    "    for i in range(len(p)):\n",
    "        if p[i] != 0:\n",
    "            S[p[i] - 1][i] = actual_S[p[i] - 1][i]\n",
    "    return S\n",
    "\n",
    "def delete_known_elements(Q, known):\n",
    "    for i in range(len(known)):\n",
    "        for j in range(len(known[i])):\n",
    "            if known[i][j] != 0:\n",
    "                Q[known[i][j] - 1][j] = -INF_2\n",
    "                \n",
    "import sys\n",
    "sys.stdout.flush()"
   ]
  },
  {
   "cell_type": "markdown",
   "metadata": {},
   "source": [
    "Вначале попробуем S-max стратегию для заполнения матрицы $Q$."
   ]
  },
  {
   "cell_type": "code",
   "execution_count": 169,
   "metadata": {
    "collapsed": false
   },
   "outputs": [
    {
     "name": "stdout",
     "output_type": "stream",
     "text": [
      "Iteration 1 :   1448.0\n",
      "Iteration 2 :   1471.0\n",
      "Iteration 3 :   1452.0\n",
      "Iteration 4 :   1480.0\n",
      "Iteration 5 :   1483.0\n",
      "Iteration 6 :   1486.0\n",
      "Iteration 7 :   1489.0\n",
      "Iteration 8 :   1504.0\n",
      "Iteration 9 :   1505.0\n",
      "Iteration 10 :   1516.0\n",
      "Iteration 11 :   1502.0\n",
      "Iteration 12 :   1523.0\n",
      "Iteration 13 :   1518.0\n",
      "Iteration 14 :   1524.0\n",
      "Iteration 15 :   1514.0\n",
      "Iteration 16 :   1536.0\n",
      "Iteration 17 :   1531.0\n",
      "Iteration 18 :   1538.0\n",
      "Iteration 19 :   1537.0\n",
      "Iteration 20 :   1536.0\n",
      "Iteration 21 :   1543.0\n",
      "Iteration 22 :   1561.0\n",
      "Iteration 23 :   1552.0\n",
      "Iteration 24 :   1541.0\n",
      "Iteration 25 :   1558.0\n",
      "Iteration 26 :   1543.0\n",
      "Iteration 27 :   1554.0\n",
      "Iteration 28 :   1544.0\n",
      "Iteration 29 :   1551.0\n",
      "Iteration 30 :   1555.0\n",
      "Iteration 31 :   1567.0\n",
      "Iteration 32 :   1570.0\n",
      "Iteration 33 :   1587.0\n",
      "Iteration 34 :   1577.0\n",
      "Iteration 35 :   1597.0\n",
      "Iteration 36 :   1593.0\n",
      "Iteration 37 :   1602.0\n",
      "Iteration 38 :   1604.0\n",
      "Iteration 39 :   1601.0\n",
      "Iteration 40 :   1607.0\n",
      "Iteration 41 :   1611.0\n",
      "Iteration 42 :   1612.0\n",
      "Iteration 43 :   1627.0\n",
      "Iteration 44 :   1630.0\n",
      "Iteration 45 :   1630.0\n",
      "Iteration 46 :   1635.0\n",
      "Iteration 47 :   1645.0\n",
      "Iteration 48 :   1635.0\n",
      "Iteration 49 :   1645.0\n",
      "Iteration 50 :   1637.0\n",
      "Iteration 51 :   1646.0\n",
      "Iteration 52 :   1645.0\n",
      "Iteration 53 :   1653.0\n",
      "Iteration 54 :   1648.0\n",
      "Iteration 55 :   1650.0\n",
      "Iteration 56 :   1653.0\n",
      "Iteration 57 :   1650.0\n",
      "Iteration 58 :   1651.0\n",
      "Iteration 59 :   1658.0\n",
      "Iteration 60 :   1663.0\n",
      "No iteration can be done\n"
     ]
    }
   ],
   "source": [
    "utility_1 = [0 for i in range(m + 1)]\n",
    "S = np.zeros(actual_S.shape)\n",
    "known = []\n",
    "\n",
    "i = 0\n",
    "while True:\n",
    "    Q = fill_missing_with_predictions(S)\n",
    "    delete_known_elements(Q, known)\n",
    "    try:\n",
    "        p = find_optimal_matching(Q)\n",
    "    except:\n",
    "        print 'No matching found'\n",
    "        break\n",
    "    S = update(S, actual_S, p)\n",
    "    exit = False\n",
    "    for i1 in range(S.shape[0]):\n",
    "        cnt = 0\n",
    "        for j1 in range(S.shape[1]):\n",
    "            if S[i1][j1] != 0:\n",
    "                cnt += 1\n",
    "        if cnt != i + 1:\n",
    "            print 'No matching found'\n",
    "            exit = True\n",
    "            break\n",
    "    if exit:\n",
    "        break\n",
    "    known.append(p)\n",
    "    utility_1[i] = count_utility(actual_S, get_optimal_solution(fill_missing_with_predictions(S), P))\n",
    "    print 'Iteration', i + 1, ':  ', utility_1[i]\n",
    "    i += 1"
   ]
  },
  {
   "cell_type": "markdown",
   "metadata": {},
   "source": [
    "Теперь попробуем Y-max стратегию для заполнения матрицы $Q$."
   ]
  },
  {
   "cell_type": "code",
   "execution_count": 164,
   "metadata": {
    "collapsed": false
   },
   "outputs": [
    {
     "name": "stdout",
     "output_type": "stream",
     "text": [
      "Iteration 1 :   1452.0\n",
      "Iteration 2 :   1454.0\n",
      "Iteration 3 :   1486.0\n",
      "Iteration 4 :   1477.0\n",
      "Iteration 5 :   1472.0\n",
      "Iteration 6 :   1474.0\n",
      "Iteration 7 :   1480.0\n",
      "Iteration 8 :   1484.0\n",
      "Iteration 9 :   1501.0\n",
      "Iteration 10 :   1508.0\n",
      "Iteration 11 :   1524.0\n",
      "Iteration 12 :   1518.0\n",
      "Iteration 13 :   1543.0\n",
      "Iteration 14 :   1544.0\n",
      "Iteration 15 :   1535.0\n",
      "Iteration 16 :   1532.0\n",
      "Iteration 17 :   1543.0\n",
      "Iteration 18 :   1549.0\n",
      "Iteration 19 :   1538.0\n",
      "Iteration 20 :   1566.0\n",
      "Iteration 21 :   1568.0\n",
      "Iteration 22 :   1569.0\n",
      "Iteration 23 :   1567.0\n",
      "Iteration 24 :   1588.0\n",
      "Iteration 25 :   1581.0\n",
      "Iteration 26 :   1597.0\n",
      "Iteration 27 :   1591.0\n",
      "Iteration 28 :   1620.0\n",
      "Iteration 29 :   1622.0\n",
      "Iteration 30 :   1624.0\n",
      "Iteration 31 :   1622.0\n",
      "Iteration 32 :   1630.0\n",
      "Iteration 33 :   1627.0\n",
      "Iteration 34 :   1643.0\n",
      "Iteration 35 :   1634.0\n",
      "Iteration 36 :   1637.0\n",
      "Iteration 37 :   1642.0\n",
      "Iteration 38 :   1651.0\n",
      "Iteration 39 :   1646.0\n",
      "Iteration 40 :   1650.0\n",
      "Iteration 41 :   1650.0\n",
      "Iteration 42 :   1658.0\n",
      "Iteration 43 :   1661.0\n",
      "Iteration 44 :   1658.0\n",
      "Iteration 45 :   1662.0\n",
      "Iteration 46 :   1655.0\n",
      "Iteration 47 :   1665.0\n",
      "Iteration 48 :   1668.0\n",
      "Iteration 49 :   1668.0\n",
      "Iteration 50 :   1666.0\n",
      "Iteration 51 :   1669.0\n",
      "Iteration 52 :   1673.0\n",
      "Iteration 53 :   1670.0\n",
      "Iteration 54 :   1674.0\n",
      "Iteration 55 :   1673.0\n",
      "Iteration 56 :   1678.0\n",
      "Iteration 57 :   1679.0\n",
      "Iteration 58 :   1681.0\n",
      "Iteration 59 :   1683.0\n",
      "Iteration 60 :   1684.0\n",
      "Iteration 61 :   1682.0\n",
      "Iteration 62 :   1687.0\n",
      "No iteration can be done\n"
     ]
    }
   ],
   "source": [
    "utility_2 = [0 for i in range(m + 1)]\n",
    "S = np.zeros(actual_S.shape)\n",
    "known = []\n",
    "\n",
    "i = 0\n",
    "while True:\n",
    "    S_hat = fill_missing_with_predictions(S)\n",
    "    Y_hat = get_optimal_solution(S_hat, P)\n",
    "    Q = np.array([[Y_hat[i1][j1] * S_hat[i1][j1] for j1 in range(m)] for i1 in range(n)])\n",
    "    delete_known_elements(Q, known)\n",
    "    try:\n",
    "        p = find_optimal_matching(Q)\n",
    "    except:\n",
    "        print 'No matching found'\n",
    "        break\n",
    "    S = update(S, actual_S, p)\n",
    "    exit = False\n",
    "    for i1 in range(S.shape[0]):\n",
    "        cnt = 0\n",
    "        for j1 in range(S.shape[1]):\n",
    "            if S[i1][j1] != 0:\n",
    "                cnt += 1\n",
    "        if cnt != i + 1:\n",
    "            print 'No matching found'\n",
    "            exit = True\n",
    "            break\n",
    "    if exit:\n",
    "        break\n",
    "    known.append(p)\n",
    "    utility_2[i] = count_utility(actual_S, get_optimal_solution(fill_missing_with_predictions(S), P))\n",
    "    print 'Iteration', i + 1, ':  ', utility_2[i]\n",
    "    i += 1"
   ]
  },
  {
   "cell_type": "code",
   "execution_count": 165,
   "metadata": {
    "collapsed": false
   },
   "outputs": [
    {
     "name": "stdout",
     "output_type": "stream",
     "text": [
      "Iteration 1 :   1448.0\n",
      "Iteration 2 :   1474.0\n",
      "Iteration 3 :   1473.0\n",
      "Iteration 4 :   1463.0\n",
      "Iteration 5 :   1487.0\n",
      "Iteration 6 :   1479.0\n",
      "Iteration 7 :   1486.0\n",
      "Iteration 8 :   1489.0\n",
      "Iteration 9 :   1493.0\n",
      "Iteration 10 :   1490.0\n",
      "Iteration 11 :   1513.0\n",
      "Iteration 12 :   1515.0\n",
      "Iteration 13 :   1525.0\n",
      "Iteration 14 :   1538.0\n",
      "Iteration 15 :   1531.0\n",
      "Iteration 16 :   1530.0\n",
      "Iteration 17 :   1519.0\n",
      "Iteration 18 :   1549.0\n",
      "Iteration 19 :   1526.0\n",
      "Iteration 20 :   1546.0\n",
      "Iteration 21 :   1532.0\n",
      "Iteration 22 :   1538.0\n",
      "Iteration 23 :   1541.0\n",
      "Iteration 24 :   1529.0\n",
      "Iteration 25 :   1529.0\n",
      "Iteration 26 :   1547.0\n",
      "Iteration 27 :   1548.0\n",
      "Iteration 28 :   1561.0\n",
      "Iteration 29 :   1560.0\n",
      "Iteration 30 :   1536.0\n",
      "Iteration 31 :   1568.0\n",
      "Iteration 32 :   1565.0\n",
      "Iteration 33 :   1566.0\n",
      "Iteration 34 :   1584.0\n",
      "Iteration 35 :   1590.0\n",
      "Iteration 36 :   1597.0\n",
      "Iteration 37 :   1583.0\n",
      "Iteration 38 :   1600.0\n",
      "Iteration 39 :   1621.0\n",
      "Iteration 40 :   1607.0\n",
      "Iteration 41 :   1618.0\n",
      "Iteration 42 :   1607.0\n",
      "Iteration 43 :   1617.0\n",
      "Iteration 44 :   1622.0\n",
      "Iteration 45 :   1634.0\n",
      "Iteration 46 :   1628.0\n",
      "Iteration 47 :   1628.0\n",
      "Iteration 48 :   1631.0\n",
      "Iteration 49 :   1627.0\n",
      "Iteration 50 :   1634.0\n",
      "Iteration 51 :   1647.0\n",
      "Iteration 52 :   1653.0\n",
      "Iteration 53 :   1650.0\n",
      "Iteration 54 :   1657.0\n",
      "Iteration 55 :   1650.0\n",
      "Iteration 56 :   1643.0\n",
      "Iteration 57 :   1655.0\n",
      "Iteration 58 :   1652.0\n",
      "Iteration 59 :   1656.0\n",
      "Iteration 60 :   1657.0\n",
      "No matching found\n"
     ]
    }
   ],
   "source": [
    "utility_random = [0 for i in range(m + 1)]\n",
    "S = np.zeros(actual_S.shape)\n",
    "known = []\n",
    "\n",
    "i = 0\n",
    "while True:\n",
    "    Q = np.zeros(S.shape)\n",
    "    delete_known_elements(Q, known)\n",
    "    try:\n",
    "        p = find_optimal_matching(Q)\n",
    "    except:\n",
    "        print 'No matching found'\n",
    "        break\n",
    "    S = update(S, actual_S, p)\n",
    "    exit = False\n",
    "    for i1 in range(S.shape[0]):\n",
    "        cnt = 0\n",
    "        for j1 in range(S.shape[1]):\n",
    "            if S[i1][j1] != 0:\n",
    "                cnt += 1\n",
    "        if cnt != i + 1:\n",
    "            print 'No matching found'\n",
    "            exit = True\n",
    "            break\n",
    "    if exit:\n",
    "        break\n",
    "    known.append(p)\n",
    "    utility_random[i] = count_utility(actual_S, get_optimal_solution(fill_missing_with_predictions(S), P))\n",
    "    print 'Iteration', i + 1, ':  ', utility_random[i]\n",
    "    i += 1"
   ]
  },
  {
   "cell_type": "markdown",
   "metadata": {},
   "source": [
    "Изобразим результаты на графике:"
   ]
  },
  {
   "cell_type": "code",
   "execution_count": 172,
   "metadata": {
    "collapsed": false
   },
   "outputs": [
    {
     "data": {
      "text/plain": [
       "<matplotlib.legend.Legend at 0x1165a1050>"
      ]
     },
     "execution_count": 172,
     "metadata": {},
     "output_type": "execute_result"
    },
    {
     "data": {
      "image/png": "[encoded data removed]",
      "text/plain": [
       "<matplotlib.figure.Figure at 0x11624aad0>"
      ]
     },
     "metadata": {},
     "output_type": "display_data"
    }
   ],
   "source": [
    "import pylab\n",
    "pylab.rcParams['figure.figsize'] = (12, 8)\n",
    "plt.plot(range(1, 61), utility_2[:60], c='b', label='Y-max')\n",
    "plt.plot(range(1, 61), utility_1[:60], c='r', label='S-max')\n",
    "plt.plot(range(1, 61), utility_random[:60], c='g', label='random')\n",
    "plt.ylabel('utility')\n",
    "plt.xlabel('number of iterations')\n",
    "pylab.legend(loc='best')"
   ]
  },
  {
   "cell_type": "markdown",
   "metadata": {},
   "source": [
    "Мы видим, что Y-max в целом лучше справляется. S-max вообще не дает какого-то значимого прироста по сравнению со случайным выбором произвольного паросочетания."
   ]
  },
  {
   "cell_type": "markdown",
   "metadata": {},
   "source": [
    "Что касается максимальное количества итераций, то мы видим, что для разных алогитмов это число немного отличается. Но во всех случаях оно было больше $m - n + 1 = 38$ "
   ]
  },
  {
   "cell_type": "code",
   "execution_count": null,
   "metadata": {
    "collapsed": true
   },
   "outputs": [],
   "source": []
  }
 ],
 "metadata": {
  "kernelspec": {
   "display_name": "Python 2",
   "language": "python",
   "name": "python2"
  },
  "language_info": {
   "codemirror_mode": {
    "name": "ipython",
    "version": 2
   },
   "file_extension": ".py",
   "mimetype": "text/x-python",
   "name": "python",
   "nbconvert_exporter": "python",
   "pygments_lexer": "ipython2",
   "version": "2.7.11"
  }
 },
 "nbformat": 4,
 "nbformat_minor": 0
}
